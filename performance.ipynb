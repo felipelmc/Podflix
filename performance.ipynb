{
 "cells": [
  {
   "cell_type": "code",
   "execution_count": 72,
   "metadata": {},
   "outputs": [],
   "source": [
    "import pandas as pd\n",
    "import numpy as np\n",
    "from sklearn.metrics import accuracy_score, f1_score, precision_score, recall_score, confusion_matrix"
   ]
  },
  {
   "cell_type": "markdown",
   "metadata": {},
   "source": [
    "$\\Rightarrow$ Desconsideramos os cálculos de f1_score e recall, porque, da maneira como estamos considerando os casos de \"predicted\" (a saída dos 5 mais relevantes de cada modelo), nunca haverá predições iguais a 0. Como recall considera a quantidade false negatives (o que pressupõe a predição de negatives), e f1_score é uma média harmônica entre precisão e recall, não faz sentido considerar essas métricas por ora."
   ]
  },
  {
   "cell_type": "code",
   "execution_count": 73,
   "metadata": {},
   "outputs": [],
   "source": [
    "def compute_binary_metrics(y_true, y_pred):\n",
    "    \"\"\"\n",
    "    Compute binary classification metrics\n",
    "    :param y_true: true labels\n",
    "    :param y_pred: predicted labels\n",
    "    \"\"\"\n",
    "    print(\"Precision: \", precision_score(y_true, y_pred))"
   ]
  },
  {
   "cell_type": "code",
   "execution_count": 74,
   "metadata": {},
   "outputs": [],
   "source": [
    "def discounted_cumulative_gain(df):\n",
    "    \"\"\"\n",
    "    Compute Discounted Cumulative Gain\n",
    "    :param y_true: true labels\n",
    "    :param y_pred: predicted labels\n",
    "    :param k: number of top predictions to consider\n",
    "    \"\"\"\n",
    "    dcgs = []\n",
    "    for query in df['Query'].unique():\n",
    "        df_query = df.query('Query == @query')\n",
    "        dcg = 0\n",
    "        for i in df_query[\"Resultado\"].values:\n",
    "            score = df_query.query('Resultado == @i')['Score'].values[0]\n",
    "            dcg += (2 ** score - 1) / np.log2(i + 1)\n",
    "        dcgs.append(dcg)\n",
    "    \n",
    "    dcg_total = sum(dcgs)\n",
    "    mean_dcg = dcg_total / len(df['Query'].unique())\n",
    "    \n",
    "    max_dcg = 0\n",
    "    for i in range(5):\n",
    "        max_dcg += (2 ** 5 - 1) / np.log2(i + 1 + 1)\n",
    "    \n",
    "    normalized_mean_dcg = mean_dcg / max_dcg\n",
    "    return mean_dcg, normalized_mean_dcg"
   ]
  },
  {
   "cell_type": "markdown",
   "metadata": {},
   "source": [
    "## **Performance of BM25**"
   ]
  },
  {
   "cell_type": "code",
   "execution_count": 75,
   "metadata": {},
   "outputs": [],
   "source": [
    "bm25 = pd.read_csv(\"results/results_bm25.csv\", sep=\";\")\n",
    "bm25[\"Predicted\"] = [1] * len(bm25)"
   ]
  },
  {
   "cell_type": "code",
   "execution_count": 76,
   "metadata": {},
   "outputs": [
    {
     "data": {
      "text/html": [
       "<div>\n",
       "<style scoped>\n",
       "    .dataframe tbody tr th:only-of-type {\n",
       "        vertical-align: middle;\n",
       "    }\n",
       "\n",
       "    .dataframe tbody tr th {\n",
       "        vertical-align: top;\n",
       "    }\n",
       "\n",
       "    .dataframe thead th {\n",
       "        text-align: right;\n",
       "    }\n",
       "</style>\n",
       "<table border=\"1\" class=\"dataframe\">\n",
       "  <thead>\n",
       "    <tr style=\"text-align: right;\">\n",
       "      <th></th>\n",
       "      <th>Query</th>\n",
       "      <th>Resultado</th>\n",
       "      <th>Score</th>\n",
       "      <th>Binario</th>\n",
       "      <th>Predicted</th>\n",
       "    </tr>\n",
       "  </thead>\n",
       "  <tbody>\n",
       "    <tr>\n",
       "      <th>0</th>\n",
       "      <td>1</td>\n",
       "      <td>1</td>\n",
       "      <td>4</td>\n",
       "      <td>1</td>\n",
       "      <td>1</td>\n",
       "    </tr>\n",
       "    <tr>\n",
       "      <th>1</th>\n",
       "      <td>1</td>\n",
       "      <td>2</td>\n",
       "      <td>5</td>\n",
       "      <td>1</td>\n",
       "      <td>1</td>\n",
       "    </tr>\n",
       "    <tr>\n",
       "      <th>2</th>\n",
       "      <td>1</td>\n",
       "      <td>3</td>\n",
       "      <td>4</td>\n",
       "      <td>1</td>\n",
       "      <td>1</td>\n",
       "    </tr>\n",
       "    <tr>\n",
       "      <th>3</th>\n",
       "      <td>1</td>\n",
       "      <td>4</td>\n",
       "      <td>4</td>\n",
       "      <td>1</td>\n",
       "      <td>1</td>\n",
       "    </tr>\n",
       "    <tr>\n",
       "      <th>4</th>\n",
       "      <td>1</td>\n",
       "      <td>5</td>\n",
       "      <td>1</td>\n",
       "      <td>0</td>\n",
       "      <td>1</td>\n",
       "    </tr>\n",
       "  </tbody>\n",
       "</table>\n",
       "</div>"
      ],
      "text/plain": [
       "   Query  Resultado  Score  Binario  Predicted\n",
       "0      1          1      4        1          1\n",
       "1      1          2      5        1          1\n",
       "2      1          3      4        1          1\n",
       "3      1          4      4        1          1\n",
       "4      1          5      1        0          1"
      ]
     },
     "execution_count": 76,
     "metadata": {},
     "output_type": "execute_result"
    }
   ],
   "source": [
    "bm25.head()"
   ]
  },
  {
   "cell_type": "code",
   "execution_count": 77,
   "metadata": {},
   "outputs": [
    {
     "name": "stdout",
     "output_type": "stream",
     "text": [
      "Precision:  0.6727272727272727\n"
     ]
    }
   ],
   "source": [
    "compute_binary_metrics(bm25[\"Binario\"], bm25[\"Predicted\"])"
   ]
  },
  {
   "cell_type": "code",
   "execution_count": 78,
   "metadata": {},
   "outputs": [
    {
     "data": {
      "text/plain": [
       "(54.342082838367624, 0.5945378054986006)"
      ]
     },
     "execution_count": 78,
     "metadata": {},
     "output_type": "execute_result"
    }
   ],
   "source": [
    "discounted_cumulative_gain(bm25)"
   ]
  },
  {
   "cell_type": "markdown",
   "metadata": {},
   "source": [
    "## **Performance Semantic**"
   ]
  },
  {
   "cell_type": "code",
   "execution_count": 79,
   "metadata": {},
   "outputs": [],
   "source": [
    "semantic = pd.read_csv(\"results/results_semantic.csv\", sep=\";\")\n",
    "semantic[\"Predicted\"] = [1] * len(semantic)"
   ]
  },
  {
   "cell_type": "code",
   "execution_count": 80,
   "metadata": {},
   "outputs": [
    {
     "name": "stdout",
     "output_type": "stream",
     "text": [
      "Precision:  0.6\n"
     ]
    }
   ],
   "source": [
    "compute_binary_metrics(semantic[\"Binario\"], semantic[\"Predicted\"])"
   ]
  },
  {
   "cell_type": "code",
   "execution_count": 81,
   "metadata": {},
   "outputs": [
    {
     "data": {
      "text/plain": [
       "(46.800780362808695, 0.5120310411230845)"
      ]
     },
     "execution_count": 81,
     "metadata": {},
     "output_type": "execute_result"
    }
   ],
   "source": [
    "discounted_cumulative_gain(semantic)"
   ]
  },
  {
   "cell_type": "markdown",
   "metadata": {},
   "source": [
    "## **Fusion**"
   ]
  },
  {
   "cell_type": "code",
   "execution_count": 82,
   "metadata": {},
   "outputs": [],
   "source": [
    "fusion = pd.read_csv(\"results/fusion.csv\", sep=\";\")\n",
    "fusion[\"Predicted\"] = [1] * len(fusion)"
   ]
  },
  {
   "cell_type": "code",
   "execution_count": 83,
   "metadata": {},
   "outputs": [
    {
     "name": "stdout",
     "output_type": "stream",
     "text": [
      "Precision:  0.8363636363636363\n"
     ]
    }
   ],
   "source": [
    "compute_binary_metrics(fusion[\"Binario\"], fusion[\"Predicted\"])"
   ]
  },
  {
   "cell_type": "code",
   "execution_count": 84,
   "metadata": {},
   "outputs": [
    {
     "data": {
      "text/plain": [
       "(60.613734953439355, 0.6631537673938405)"
      ]
     },
     "execution_count": 84,
     "metadata": {},
     "output_type": "execute_result"
    }
   ],
   "source": [
    "discounted_cumulative_gain(fusion)"
   ]
  }
 ],
 "metadata": {
  "kernelspec": {
   "display_name": "Python 3",
   "language": "python",
   "name": "python3"
  },
  "language_info": {
   "codemirror_mode": {
    "name": "ipython",
    "version": 3
   },
   "file_extension": ".py",
   "mimetype": "text/x-python",
   "name": "python",
   "nbconvert_exporter": "python",
   "pygments_lexer": "ipython3",
   "version": "3.11.6"
  }
 },
 "nbformat": 4,
 "nbformat_minor": 2
}
