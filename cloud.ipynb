{
 "cells": [
  {
   "cell_type": "code",
   "execution_count": 1,
   "metadata": {},
   "outputs": [
    {
     "name": "stdout",
     "output_type": "stream",
     "text": [
      "\u001b[31mError:\u001b[0m private key '\u001b[36m/home/cartesius/.vespa/grupo5.podflix.default/data-plane-private-key.pem\u001b[0m' already exists\n",
      "\u001b[36mHint:\u001b[0m Use -f flag to force overwriting\n"
     ]
    }
   ],
   "source": [
    "import os\n",
    "\n",
    "os.environ[\"TENANT_NAME\"] = \"grupo5\"  # Replace with your tenant name\n",
    "application = \"podflix\"\n",
    "vespa_cli_command = (\n",
    "    f'vespa config set application {os.environ[\"TENANT_NAME\"]}.{application}'\n",
    ")\n",
    "\n",
    "!vespa config set target cloud\n",
    "!{vespa_cli_command}\n",
    "!vespa auth cert -N"
   ]
  },
  {
   "cell_type": "code",
   "execution_count": 2,
   "metadata": {},
   "outputs": [],
   "source": [
    "from os.path import exists\n",
    "from pathlib import Path\n",
    "\n",
    "cert_path = (\n",
    "    Path.home()\n",
    "    / \".vespa\"\n",
    "    / f\"{os.environ['TENANT_NAME']}.{application}.default/data-plane-public-cert.pem\"\n",
    ")\n",
    "key_path = (\n",
    "    Path.home()\n",
    "    / \".vespa\"\n",
    "    / f\"{os.environ['TENANT_NAME']}.{application}.default/data-plane-private-key.pem\"\n",
    ")\n",
    "\n",
    "if not exists(cert_path) or not exists(key_path):\n",
    "    print(\n",
    "        \"ERROR: set the correct paths to security credentials. Correct paths above and rerun until you do not see this error\"\n",
    "    )"
   ]
  },
  {
   "cell_type": "code",
   "execution_count": 3,
   "metadata": {},
   "outputs": [
    {
     "name": "stdout",
     "output_type": "stream",
     "text": [
      "\u001b[31mError:\u001b[0m refusing to overwrite '/home/cartesius/.vespa/grupo5.api-key.pem'\n",
      "\u001b[36mHint:\u001b[0m Use -f to overwrite it\n",
      "\n",
      "This is your public key:\n",
      "\u001b[32m-----BEGIN PUBLIC KEY-----\n",
      "MFkwEwYHKoZIzj0CAQYIKoZIzj0DAQcDQgAEKAzWIhjcFOWv5dR1u4yafKogQOnA\n",
      "cNxyVSF2p5Jsr//ayganu0Me/Djja6DfUpwwj1mz6saiU+Ds5edsYKJg9g==\n",
      "-----END PUBLIC KEY-----\n",
      "\u001b[0m\n",
      "Its fingerprint is:\n",
      "\u001b[36m04:5d:f6:e2:6f:cd:68:f6:0c:c1:e2:5d:cc:d9:39:8f\u001b[0m\n",
      "\n",
      "To use this key in Vespa Cloud click 'Add custom key' at\n",
      "\u001b[36mhttps://console.vespa-cloud.com/tenant/grupo5/account/keys\u001b[0m\n",
      "and paste the entire public key including the BEGIN and END lines.\n"
     ]
    }
   ],
   "source": [
    "!vespa auth api-key\n",
    "\n",
    "from pathlib import Path\n",
    "\n",
    "api_key_path = Path.home() / \".vespa\" / f\"{os.environ['TENANT_NAME']}.api-key.pem\"\n",
    "\n",
    "os.environ[\"VESPA_TEAM_API_KEY\"] = api_key_path.read_text().strip()"
   ]
  },
  {
   "cell_type": "code",
   "execution_count": 4,
   "metadata": {},
   "outputs": [
    {
     "name": "stdout",
     "output_type": "stream",
     "text": [
      "Deployment started in run 7 of dev-aws-us-east-1c for grupo5.podflix. This may take a few minutes the first time.\n",
      "INFO    [14:52:00]  Deploying platform version 8.351.13 and application dev build 7 for dev-aws-us-east-1c of default ...\n",
      "INFO    [14:52:00]  Using CA signed certificate version 1\n",
      "INFO    [14:52:01]  Using 1 nodes in container cluster 'podflix_container'\n",
      "INFO    [14:52:03]  Validating Onnx models memory usage for container cluster 'podflix_container', percentage of available memory too low (10 < 15) to avoid restart, consider a flavor with more memory to avoid this\n",
      "INFO    [14:52:05]  Session 8 for tenant 'grupo5' prepared and activated.\n",
      "INFO    [14:52:05]  ######## Details for all nodes ########\n",
      "INFO    [14:52:05]  h93272i.dev.aws-us-east-1c.vespa-external.aws.oath.cloud: expected to be UP\n",
      "INFO    [14:52:05]  --- platform vespa/cloud-tenant-rhel8:8.351.13\n",
      "INFO    [14:52:05]  --- container-clustercontroller on port 19050 has config generation 8, wanted is 8\n",
      "INFO    [14:52:05]  --- metricsproxy-container on port 19092 has config generation 8, wanted is 8\n",
      "INFO    [14:52:05]  h93271a.dev.aws-us-east-1c.vespa-external.aws.oath.cloud: expected to be UP\n",
      "INFO    [14:52:05]  --- platform vespa/cloud-tenant-rhel8:8.351.13\n",
      "INFO    [14:52:05]  --- storagenode on port 19102 has config generation 7, wanted is 8\n",
      "INFO    [14:52:05]  --- searchnode on port 19107 has config generation 8, wanted is 8\n",
      "INFO    [14:52:05]  --- distributor on port 19111 has config generation 8, wanted is 8\n",
      "INFO    [14:52:05]  --- metricsproxy-container on port 19092 has config generation 8, wanted is 8\n",
      "INFO    [14:52:05]  h93274a.dev.aws-us-east-1c.vespa-external.aws.oath.cloud: expected to be UP\n",
      "INFO    [14:52:05]  --- platform vespa/cloud-tenant-rhel8:8.351.13\n",
      "INFO    [14:52:05]  --- logserver-container on port 4080 has config generation 8, wanted is 8\n",
      "INFO    [14:52:05]  --- metricsproxy-container on port 19092 has config generation 8, wanted is 8\n",
      "INFO    [14:52:05]  h93646a.dev.aws-us-east-1c.vespa-external.aws.oath.cloud: expected to be UP\n",
      "INFO    [14:52:05]  --- platform vespa/cloud-tenant-rhel8:8.351.13\n",
      "INFO    [14:52:05]  --- container on port 4080 has config generation 8, wanted is 8\n",
      "INFO    [14:52:05]  --- metricsproxy-container on port 19092 has config generation 8, wanted is 8\n",
      "INFO    [14:52:12]  Found endpoints:\n",
      "INFO    [14:52:12]  - dev.aws-us-east-1c\n",
      "INFO    [14:52:12]   |-- https://db703533.b20230ac.z.vespa-app.cloud/ (cluster 'podflix_container')\n",
      "INFO    [14:52:12]  Deployment of new application complete!\n",
      "Using mTLS (key,cert) Authentication against endpoint https://db703533.b20230ac.z.vespa-app.cloud//ApplicationStatus\n",
      "Application is up!\n",
      "Finished deployment.\n"
     ]
    }
   ],
   "source": [
    "from app.podcasts.application import VespaApp\n",
    "        \n",
    "def read_secret():\n",
    "    \"\"\"Read the API key from the environment variable. This is\n",
    "    only used for CI/CD purposes.\"\"\"\n",
    "    t = os.getenv(\"VESPA_TEAM_API_KEY\")\n",
    "    if t:\n",
    "        return t.replace(r\"\\n\", \"\\n\")\n",
    "    else:\n",
    "        return t\n",
    "    \n",
    "key = read_secret()\n",
    "app = VespaApp(cloud=True, key=key, key_location=api_key_path)"
   ]
  },
  {
   "cell_type": "code",
   "execution_count": null,
   "metadata": {},
   "outputs": [],
   "source": []
  }
 ],
 "metadata": {
  "kernelspec": {
   "display_name": "pyvespa",
   "language": "python",
   "name": "python3"
  },
  "language_info": {
   "codemirror_mode": {
    "name": "ipython",
    "version": 3
   },
   "file_extension": ".py",
   "mimetype": "text/x-python",
   "name": "python",
   "nbconvert_exporter": "python",
   "pygments_lexer": "ipython3",
   "version": "3.12.3"
  }
 },
 "nbformat": 4,
 "nbformat_minor": 2
}
