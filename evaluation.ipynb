{
 "cells": [
  {
   "cell_type": "code",
   "execution_count": 2,
   "metadata": {},
   "outputs": [],
   "source": [
    "from application import VespaApp\n",
    "import pandas as pd"
   ]
  },
  {
   "cell_type": "code",
   "execution_count": 3,
   "metadata": {},
   "outputs": [
    {
     "name": "stdout",
     "output_type": "stream",
     "text": [
      "Waiting for configuration server, 0/300 seconds...\n",
      "Using plain http against endpoint http://localhost:8080/ApplicationStatus\n",
      "Waiting for application status, 0/300 seconds...\n",
      "Using plain http against endpoint http://localhost:8080/ApplicationStatus\n",
      "Waiting for application status, 5/300 seconds...\n",
      "Using plain http against endpoint http://localhost:8080/ApplicationStatus\n",
      "Waiting for application status, 10/300 seconds...\n",
      "Using plain http against endpoint http://localhost:8080/ApplicationStatus\n",
      "Waiting for application status, 15/300 seconds...\n",
      "Using plain http against endpoint http://localhost:8080/ApplicationStatus\n",
      "Waiting for application status, 20/300 seconds...\n",
      "Using plain http against endpoint http://localhost:8080/ApplicationStatus\n",
      "Waiting for application status, 25/300 seconds...\n",
      "Using plain http against endpoint http://localhost:8080/ApplicationStatus\n",
      "Application is up!\n",
      "Finished deployment.\n"
     ]
    }
   ],
   "source": [
    "data = pd.read_csv('data/transcribed_podcasts.csv')\n",
    "app = VespaApp()"
   ]
  },
  {
   "cell_type": "code",
   "execution_count": 4,
   "metadata": {},
   "outputs": [
    {
     "data": {
      "text/html": [
       "<div>\n",
       "<style scoped>\n",
       "    .dataframe tbody tr th:only-of-type {\n",
       "        vertical-align: middle;\n",
       "    }\n",
       "\n",
       "    .dataframe tbody tr th {\n",
       "        vertical-align: top;\n",
       "    }\n",
       "\n",
       "    .dataframe thead th {\n",
       "        text-align: right;\n",
       "    }\n",
       "</style>\n",
       "<table border=\"1\" class=\"dataframe\">\n",
       "  <thead>\n",
       "    <tr style=\"text-align: right;\">\n",
       "      <th></th>\n",
       "      <th>id</th>\n",
       "      <th>title</th>\n",
       "    </tr>\n",
       "  </thead>\n",
       "  <tbody>\n",
       "    <tr>\n",
       "      <th>0</th>\n",
       "      <td>535</td>\n",
       "      <td>Origin Story (2014)</td>\n",
       "    </tr>\n",
       "    <tr>\n",
       "      <th>1</th>\n",
       "      <td>423</td>\n",
       "      <td>The Invention of Money</td>\n",
       "    </tr>\n",
       "    <tr>\n",
       "      <th>2</th>\n",
       "      <td>591</td>\n",
       "      <td>Get Your Money's Worth</td>\n",
       "    </tr>\n",
       "    <tr>\n",
       "      <th>3</th>\n",
       "      <td>45</td>\n",
       "      <td>Media Fringe</td>\n",
       "    </tr>\n",
       "    <tr>\n",
       "      <th>4</th>\n",
       "      <td>7</td>\n",
       "      <td>Quitting</td>\n",
       "    </tr>\n",
       "    <tr>\n",
       "      <th>5</th>\n",
       "      <td>57</td>\n",
       "      <td>Delivery</td>\n",
       "    </tr>\n",
       "    <tr>\n",
       "      <th>6</th>\n",
       "      <td>711</td>\n",
       "      <td>How to Be Alone</td>\n",
       "    </tr>\n",
       "    <tr>\n",
       "      <th>7</th>\n",
       "      <td>94</td>\n",
       "      <td>How To</td>\n",
       "    </tr>\n",
       "    <tr>\n",
       "      <th>8</th>\n",
       "      <td>383</td>\n",
       "      <td>Origin Story (2009)</td>\n",
       "    </tr>\n",
       "    <tr>\n",
       "      <th>9</th>\n",
       "      <td>512</td>\n",
       "      <td>House Rules</td>\n",
       "    </tr>\n",
       "  </tbody>\n",
       "</table>\n",
       "</div>"
      ],
      "text/plain": [
       "    id                   title\n",
       "0  535     Origin Story (2014)\n",
       "1  423  The Invention of Money\n",
       "2  591  Get Your Money's Worth\n",
       "3   45            Media Fringe\n",
       "4    7                Quitting\n",
       "5   57                Delivery\n",
       "6  711         How to Be Alone\n",
       "7   94                  How To\n",
       "8  383     Origin Story (2009)\n",
       "9  512             House Rules"
      ]
     },
     "execution_count": 4,
     "metadata": {},
     "output_type": "execute_result"
    }
   ],
   "source": [
    "df_result = app.query_semantic(input_query='Money, career and how to become a millionaire')\n",
    "df_result"
   ]
  },
  {
   "cell_type": "code",
   "execution_count": 5,
   "metadata": {},
   "outputs": [
    {
     "data": {
      "text/html": [
       "<div>\n",
       "<style scoped>\n",
       "    .dataframe tbody tr th:only-of-type {\n",
       "        vertical-align: middle;\n",
       "    }\n",
       "\n",
       "    .dataframe tbody tr th {\n",
       "        vertical-align: top;\n",
       "    }\n",
       "\n",
       "    .dataframe thead th {\n",
       "        text-align: right;\n",
       "    }\n",
       "</style>\n",
       "<table border=\"1\" class=\"dataframe\">\n",
       "  <thead>\n",
       "    <tr style=\"text-align: right;\">\n",
       "      <th></th>\n",
       "      <th>id</th>\n",
       "      <th>title</th>\n",
       "    </tr>\n",
       "  </thead>\n",
       "  <tbody>\n",
       "    <tr>\n",
       "      <th>0</th>\n",
       "      <td>329</td>\n",
       "      <td>Nice Work If You Can Get It</td>\n",
       "    </tr>\n",
       "    <tr>\n",
       "      <th>1</th>\n",
       "      <td>417</td>\n",
       "      <td>This Party Sucks</td>\n",
       "    </tr>\n",
       "    <tr>\n",
       "      <th>2</th>\n",
       "      <td>769</td>\n",
       "      <td>The Reluctant Explorer</td>\n",
       "    </tr>\n",
       "    <tr>\n",
       "      <th>3</th>\n",
       "      <td>406</td>\n",
       "      <td>True Urban Legends</td>\n",
       "    </tr>\n",
       "    <tr>\n",
       "      <th>4</th>\n",
       "      <td>43</td>\n",
       "      <td>Faustian Bargains</td>\n",
       "    </tr>\n",
       "    <tr>\n",
       "      <th>5</th>\n",
       "      <td>672</td>\n",
       "      <td>No Fair!</td>\n",
       "    </tr>\n",
       "    <tr>\n",
       "      <th>6</th>\n",
       "      <td>178</td>\n",
       "      <td>Superpowers</td>\n",
       "    </tr>\n",
       "    <tr>\n",
       "      <th>7</th>\n",
       "      <td>91</td>\n",
       "      <td>Escape the Box</td>\n",
       "    </tr>\n",
       "    <tr>\n",
       "      <th>8</th>\n",
       "      <td>19</td>\n",
       "      <td>Rich Guys</td>\n",
       "    </tr>\n",
       "    <tr>\n",
       "      <th>9</th>\n",
       "      <td>145</td>\n",
       "      <td>Poultry Slam 1999</td>\n",
       "    </tr>\n",
       "  </tbody>\n",
       "</table>\n",
       "</div>"
      ],
      "text/plain": [
       "    id                        title\n",
       "0  329  Nice Work If You Can Get It\n",
       "1  417             This Party Sucks\n",
       "2  769       The Reluctant Explorer\n",
       "3  406           True Urban Legends\n",
       "4   43            Faustian Bargains\n",
       "5  672                     No Fair!\n",
       "6  178                  Superpowers\n",
       "7   91               Escape the Box\n",
       "8   19                    Rich Guys\n",
       "9  145            Poultry Slam 1999"
      ]
     },
     "execution_count": 5,
     "metadata": {},
     "output_type": "execute_result"
    }
   ],
   "source": [
    "df_result = app.query_bm25(input_query='Money, career and how to become a millionaire')\n",
    "df_result"
   ]
  },
  {
   "cell_type": "code",
   "execution_count": 6,
   "metadata": {},
   "outputs": [
    {
     "data": {
      "text/html": [
       "<div>\n",
       "<style scoped>\n",
       "    .dataframe tbody tr th:only-of-type {\n",
       "        vertical-align: middle;\n",
       "    }\n",
       "\n",
       "    .dataframe tbody tr th {\n",
       "        vertical-align: top;\n",
       "    }\n",
       "\n",
       "    .dataframe thead th {\n",
       "        text-align: right;\n",
       "    }\n",
       "</style>\n",
       "<table border=\"1\" class=\"dataframe\">\n",
       "  <thead>\n",
       "    <tr style=\"text-align: right;\">\n",
       "      <th></th>\n",
       "      <th>id</th>\n",
       "      <th>title</th>\n",
       "    </tr>\n",
       "  </thead>\n",
       "  <tbody>\n",
       "    <tr>\n",
       "      <th>0</th>\n",
       "      <td>329</td>\n",
       "      <td>Nice Work If You Can Get It</td>\n",
       "    </tr>\n",
       "    <tr>\n",
       "      <th>1</th>\n",
       "      <td>769</td>\n",
       "      <td>The Reluctant Explorer</td>\n",
       "    </tr>\n",
       "    <tr>\n",
       "      <th>2</th>\n",
       "      <td>591</td>\n",
       "      <td>Get Your Money's Worth</td>\n",
       "    </tr>\n",
       "    <tr>\n",
       "      <th>3</th>\n",
       "      <td>205</td>\n",
       "      <td>Plan B</td>\n",
       "    </tr>\n",
       "    <tr>\n",
       "      <th>4</th>\n",
       "      <td>45</td>\n",
       "      <td>Media Fringe</td>\n",
       "    </tr>\n",
       "    <tr>\n",
       "      <th>5</th>\n",
       "      <td>91</td>\n",
       "      <td>Escape the Box</td>\n",
       "    </tr>\n",
       "    <tr>\n",
       "      <th>6</th>\n",
       "      <td>383</td>\n",
       "      <td>Origin Story (2009)</td>\n",
       "    </tr>\n",
       "    <tr>\n",
       "      <th>7</th>\n",
       "      <td>461</td>\n",
       "      <td>Take the Money and Run for Office</td>\n",
       "    </tr>\n",
       "    <tr>\n",
       "      <th>8</th>\n",
       "      <td>189</td>\n",
       "      <td>Hitler’s Yacht</td>\n",
       "    </tr>\n",
       "    <tr>\n",
       "      <th>9</th>\n",
       "      <td>590</td>\n",
       "      <td>Choosing Wrong</td>\n",
       "    </tr>\n",
       "  </tbody>\n",
       "</table>\n",
       "</div>"
      ],
      "text/plain": [
       "    id                              title\n",
       "0  329        Nice Work If You Can Get It\n",
       "1  769             The Reluctant Explorer\n",
       "2  591             Get Your Money's Worth\n",
       "3  205                             Plan B\n",
       "4   45                       Media Fringe\n",
       "5   91                     Escape the Box\n",
       "6  383                Origin Story (2009)\n",
       "7  461  Take the Money and Run for Office\n",
       "8  189                     Hitler’s Yacht\n",
       "9  590                     Choosing Wrong"
      ]
     },
     "execution_count": 6,
     "metadata": {},
     "output_type": "execute_result"
    }
   ],
   "source": [
    "df_result = app.query_fusion(input_query='Money, career and how to become a millionaire')\n",
    "df_result"
   ]
  },
  {
   "cell_type": "code",
   "execution_count": 7,
   "metadata": {},
   "outputs": [],
   "source": [
    "df_result = app.query_semantic(input_query=data['transcript'][143])\n",
    "df_result = df_result.head(5)"
   ]
  },
  {
   "cell_type": "code",
   "execution_count": 8,
   "metadata": {},
   "outputs": [],
   "source": [
    "data['episode'] = data['episode'].astype(str)"
   ]
  },
  {
   "cell_type": "code",
   "execution_count": 9,
   "metadata": {},
   "outputs": [
    {
     "name": "stdout",
     "output_type": "stream",
     "text": [
      "0\n",
      "1\n",
      "2\n",
      "3\n",
      "4\n",
      "5\n",
      "6\n",
      "7\n",
      "8\n",
      "9\n",
      "10\n",
      "11\n",
      "12\n",
      "13\n",
      "14\n",
      "15\n",
      "16\n",
      "17\n",
      "18\n",
      "19\n",
      "20\n",
      "21\n",
      "22\n",
      "23\n",
      "24\n",
      "25\n",
      "26\n",
      "27\n",
      "28\n",
      "29\n",
      "30\n",
      "31\n",
      "32\n",
      "33\n",
      "34\n",
      "35\n",
      "36\n",
      "37\n",
      "38\n",
      "39\n",
      "40\n",
      "41\n",
      "42\n",
      "43\n",
      "44\n",
      "45\n",
      "46\n",
      "47\n",
      "48\n",
      "49\n",
      "50\n",
      "51\n",
      "52\n",
      "53\n",
      "54\n",
      "55\n",
      "56\n",
      "57\n",
      "58\n",
      "59\n",
      "60\n",
      "61\n",
      "62\n",
      "63\n",
      "64\n",
      "65\n",
      "66\n",
      "67\n",
      "68\n",
      "69\n",
      "70\n",
      "71\n",
      "72\n",
      "73\n",
      "74\n",
      "75\n",
      "76\n",
      "77\n",
      "78\n",
      "79\n",
      "80\n",
      "81\n",
      "82\n",
      "83\n",
      "84\n",
      "85\n",
      "86\n",
      "87\n",
      "88\n",
      "89\n",
      "90\n",
      "91\n",
      "92\n",
      "93\n",
      "94\n",
      "95\n",
      "96\n",
      "97\n",
      "98\n",
      "99\n",
      "100\n",
      "101\n",
      "102\n",
      "103\n",
      "104\n",
      "105\n",
      "106\n",
      "107\n",
      "108\n",
      "109\n",
      "110\n",
      "111\n",
      "112\n",
      "113\n",
      "114\n",
      "115\n",
      "116\n",
      "117\n",
      "118\n",
      "119\n",
      "120\n",
      "121\n",
      "122\n",
      "123\n",
      "124\n",
      "125\n",
      "126\n",
      "127\n",
      "128\n",
      "129\n",
      "130\n",
      "131\n",
      "132\n",
      "133\n",
      "134\n",
      "135\n",
      "136\n",
      "137\n",
      "138\n",
      "139\n",
      "140\n",
      "141\n",
      "142\n",
      "143\n",
      "144\n",
      "145\n",
      "146\n",
      "147\n",
      "148\n",
      "149\n",
      "150\n",
      "151\n",
      "152\n",
      "153\n",
      "154\n",
      "155\n",
      "156\n",
      "157\n",
      "158\n",
      "159\n",
      "160\n",
      "161\n",
      "162\n",
      "163\n",
      "164\n",
      "165\n",
      "166\n",
      "167\n",
      "168\n",
      "169\n",
      "170\n",
      "171\n",
      "172\n",
      "173\n",
      "174\n",
      "175\n",
      "176\n",
      "177\n",
      "178\n",
      "179\n",
      "180\n",
      "181\n",
      "182\n",
      "183\n",
      "184\n",
      "185\n",
      "186\n",
      "187\n",
      "188\n",
      "189\n",
      "190\n",
      "191\n",
      "192\n",
      "193\n",
      "194\n",
      "195\n",
      "196\n",
      "197\n",
      "198\n",
      "199\n",
      "200\n",
      "201\n",
      "202\n",
      "203\n",
      "204\n",
      "205\n",
      "206\n",
      "207\n",
      "208\n",
      "209\n",
      "210\n",
      "211\n",
      "212\n",
      "213\n",
      "214\n",
      "215\n",
      "216\n",
      "217\n",
      "218\n",
      "219\n",
      "220\n",
      "221\n",
      "222\n",
      "223\n",
      "224\n",
      "225\n",
      "226\n",
      "227\n",
      "228\n",
      "229\n",
      "230\n",
      "231\n",
      "232\n",
      "233\n",
      "234\n",
      "235\n",
      "236\n",
      "237\n",
      "238\n",
      "239\n",
      "240\n",
      "241\n",
      "242\n",
      "243\n",
      "244\n",
      "245\n",
      "246\n",
      "247\n",
      "248\n",
      "249\n",
      "250\n",
      "251\n",
      "252\n",
      "253\n",
      "254\n",
      "255\n",
      "256\n",
      "257\n",
      "258\n",
      "259\n",
      "260\n",
      "261\n",
      "262\n",
      "263\n",
      "264\n",
      "265\n",
      "266\n",
      "267\n",
      "268\n",
      "269\n",
      "270\n",
      "271\n",
      "272\n",
      "273\n",
      "274\n",
      "275\n",
      "276\n",
      "277\n",
      "278\n",
      "279\n",
      "280\n",
      "281\n",
      "282\n",
      "283\n",
      "284\n",
      "285\n",
      "286\n",
      "287\n",
      "288\n",
      "289\n",
      "290\n",
      "291\n",
      "292\n",
      "293\n",
      "294\n",
      "295\n",
      "296\n",
      "297\n",
      "298\n",
      "299\n"
     ]
    }
   ],
   "source": [
    "scores = []\n",
    "for i, row_i in data.head(300).iterrows():\n",
    "    print(i)\n",
    "    correct = 0\n",
    "    try:\n",
    "        df_result = app.query_semantic(input_query=data['transcript'][i])\n",
    "        for j, row_j in df_result.head().iterrows():\n",
    "            x = row_j['id']\n",
    "            df_subresult = app.query_semantic(input_query=data.query(\"episode == @x\")['transcript'])\n",
    "            if row_i['title'] in df_subresult.head(10)['title'].values:\n",
    "                correct += 1\n",
    "        scores.append(correct/5)\n",
    "    except:\n",
    "        pass\n"
   ]
  },
  {
   "cell_type": "code",
   "execution_count": 10,
   "metadata": {},
   "outputs": [
    {
     "data": {
      "text/plain": [
       "0.14364261168384881"
      ]
     },
     "execution_count": 10,
     "metadata": {},
     "output_type": "execute_result"
    }
   ],
   "source": [
    "# get mean score\n",
    "sum(scores)/len(scores)"
   ]
  },
  {
   "cell_type": "code",
   "execution_count": 94,
   "metadata": {},
   "outputs": [],
   "source": [
    "original_query = \"Cooking recipes for beginners in the kitchen\"\n",
    "df_result = app.query_fusion(input_query=original_query)\n",
    "titles_list = []\n",
    "# append all df_result titles to titles_list\n",
    "for i, row in df_result.head(5).iterrows():\n",
    "    titles_list.append(row['title'])\n",
    "\n",
    "similar_queries = [\"Cooking recipes for beginners\",\n",
    "                     \"Cooking recipes in the kitchen\",\n",
    "                     \"Recipes, cookers and beginners\",\n",
    "                      \"The best recipes for beginners in the kitchen\",\n",
    "                    ]\n",
    "count = 0\n",
    "for query in similar_queries:\n",
    "    df_result = app.query_fusion(input_query=query)\n",
    "    for i, row in df_result.head(5).iterrows():\n",
    "        if row['title'] in titles_list:\n",
    "            count += 1"
   ]
  },
  {
   "cell_type": "code",
   "execution_count": 95,
   "metadata": {},
   "outputs": [
    {
     "data": {
      "text/plain": [
       "0.9"
      ]
     },
     "execution_count": 95,
     "metadata": {},
     "output_type": "execute_result"
    }
   ],
   "source": [
    "count/(len(similar_queries)*5)"
   ]
  },
  {
   "cell_type": "code",
   "execution_count": 96,
   "metadata": {},
   "outputs": [],
   "source": [
    "original_query = \"Global warming and the climate change\"\n",
    "df_result = app.query_fusion(input_query=original_query)\n",
    "titles_list = []\n",
    "# append all df_result titles to titles_list\n",
    "for i, row in df_result.head(5).iterrows():\n",
    "    titles_list.append(row['title'])\n",
    "\n",
    "similar_queries = [\"Global warming\",\n",
    "                    \"Climate change\",\n",
    "                    \"The impact of climate change\",\n",
    "                    \"The effects of global warming\",\n",
    "                    ]\n",
    "count = 0\n",
    "for query in similar_queries:\n",
    "    df_result = app.query_fusion(input_query=query)\n",
    "    for i, row in df_result.head(5).iterrows():\n",
    "        if row['title'] in titles_list:\n",
    "            count += 1"
   ]
  },
  {
   "cell_type": "code",
   "execution_count": 97,
   "metadata": {},
   "outputs": [
    {
     "data": {
      "text/plain": [
       "0.55"
      ]
     },
     "execution_count": 97,
     "metadata": {},
     "output_type": "execute_result"
    }
   ],
   "source": [
    "count/(len(similar_queries)*5)"
   ]
  },
  {
   "cell_type": "code",
   "execution_count": 98,
   "metadata": {},
   "outputs": [],
   "source": [
    "original_query = \"Politics, geopolitics and the future of the world\"\n",
    "df_result = app.query_fusion(input_query=original_query)\n",
    "titles_list = []\n",
    "# append all df_result titles to titles_list\n",
    "for i, row in df_result.head(5).iterrows():\n",
    "    titles_list.append(row['title'])\n",
    "\n",
    "similar_queries = [\"Politics and geopolitics\",\n",
    "                    \"The future of the world in politics\",\n",
    "                    \"The impact of politics on the world\",\n",
    "                    \"The future of geopolitics\",\n",
    "                    ]\n",
    "count = 0\n",
    "for query in similar_queries:\n",
    "    df_result = app.query_fusion(input_query=query)\n",
    "    for i, row in df_result.head(5).iterrows():\n",
    "        if row['title'] in titles_list:\n",
    "            count += 1"
   ]
  },
  {
   "cell_type": "code",
   "execution_count": 99,
   "metadata": {},
   "outputs": [
    {
     "data": {
      "text/plain": [
       "0.45"
      ]
     },
     "execution_count": 99,
     "metadata": {},
     "output_type": "execute_result"
    }
   ],
   "source": [
    "count/(len(similar_queries)*5)"
   ]
  },
  {
   "cell_type": "code",
   "execution_count": 100,
   "metadata": {},
   "outputs": [],
   "source": [
    "original_query = \"Why do mail, post offices and postal services take so long?\"\n",
    "df_result = app.query_fusion(input_query=original_query)\n",
    "titles_list = []\n",
    "# append all df_result titles to titles_list\n",
    "for i, row in df_result.head(5).iterrows():\n",
    "    titles_list.append(row['title'])\n",
    "\n",
    "similar_queries = [\"Mail and post offices\",\n",
    "                    \"Postal services and mail\",\n",
    "                    \"Why does mail take so long?\",\n",
    "                    \"Mail, post offices and postal services\"\n",
    "                    ]\n",
    "count = 0\n",
    "for query in similar_queries:\n",
    "    df_result = app.query_fusion(input_query=query)\n",
    "    for i, row in df_result.head(5).iterrows():\n",
    "        if row['title'] in titles_list:\n",
    "            count += 1"
   ]
  },
  {
   "cell_type": "code",
   "execution_count": 101,
   "metadata": {},
   "outputs": [
    {
     "data": {
      "text/plain": [
       "0.45"
      ]
     },
     "execution_count": 101,
     "metadata": {},
     "output_type": "execute_result"
    }
   ],
   "source": [
    "count/(len(similar_queries)*5)"
   ]
  },
  {
   "cell_type": "code",
   "execution_count": 102,
   "metadata": {},
   "outputs": [],
   "source": [
    "original_query = \"Elections, ballots, democrats and republicans\"\n",
    "df_result = app.query_fusion(input_query=original_query)\n",
    "titles_list = []\n",
    "# append all df_result titles to titles_list\n",
    "for i, row in df_result.head(5).iterrows():\n",
    "    titles_list.append(row['title'])\n",
    "\n",
    "similar_queries = [\"Elections and ballots in the US\",\n",
    "                    \"Democrats and republicans\",\n",
    "                    \"The impact of elections on democrats and republicans\",\n",
    "                    \"Democrats and republicans on ballots\",\n",
    "                    ]\n",
    "count = 0\n",
    "for query in similar_queries:\n",
    "    df_result = app.query_fusion(input_query=query)\n",
    "    for i, row in df_result.head(5).iterrows():\n",
    "        if row['title'] in titles_list:\n",
    "            count += 1"
   ]
  },
  {
   "cell_type": "code",
   "execution_count": 103,
   "metadata": {},
   "outputs": [
    {
     "data": {
      "text/plain": [
       "0.65"
      ]
     },
     "execution_count": 103,
     "metadata": {},
     "output_type": "execute_result"
    }
   ],
   "source": [
    "count/(len(similar_queries)*5)"
   ]
  },
  {
   "cell_type": "code",
   "execution_count": 104,
   "metadata": {},
   "outputs": [],
   "source": [
    "original_query = \"Robotics, technology and artificial intelligence\"\n",
    "df_result = app.query_fusion(input_query=original_query)\n",
    "titles_list = []\n",
    "# append all df_result titles to titles_list\n",
    "for i, row in df_result.head(5).iterrows():\n",
    "    titles_list.append(row['title'])\n",
    "\n",
    "similar_queries = [\"Robotics and technology in ai\",\n",
    "                    \"AI and robotics\",\n",
    "                    \"Technology and artificial intelligence\",\n",
    "                    \"Technology of robots and ai\",\n",
    "                    ]\n",
    "count = 0\n",
    "for query in similar_queries:\n",
    "    df_result = app.query_fusion(input_query=query)\n",
    "    for i, row in df_result.head(5).iterrows():\n",
    "        if row['title'] in titles_list:\n",
    "            count += 1"
   ]
  },
  {
   "cell_type": "code",
   "execution_count": 105,
   "metadata": {},
   "outputs": [
    {
     "data": {
      "text/plain": [
       "0.65"
      ]
     },
     "execution_count": 105,
     "metadata": {},
     "output_type": "execute_result"
    }
   ],
   "source": [
    "count/(len(similar_queries)*5)"
   ]
  },
  {
   "cell_type": "code",
   "execution_count": 106,
   "metadata": {},
   "outputs": [],
   "source": [
    "original_query = \"Parenting, how to be moms and dads\"\n",
    "df_result = app.query_fusion(input_query=original_query)\n",
    "titles_list = []\n",
    "# append all df_result titles to titles_list\n",
    "for i, row in df_result.head(5).iterrows():\n",
    "    titles_list.append(row['title'])\n",
    "\n",
    "similar_queries = [\"Parenting\",\n",
    "                    \"How to be moms and dads\",\n",
    "                    \"Moms and dads in parenting\",\n",
    "                    \"Parenting, kids, moms and dads\",\n",
    "                    ]\n",
    "count = 0\n",
    "for query in similar_queries:\n",
    "    df_result = app.query_fusion(input_query=query)\n",
    "    for i, row in df_result.head(5).iterrows():\n",
    "        if row['title'] in titles_list:\n",
    "            count += 1"
   ]
  },
  {
   "cell_type": "code",
   "execution_count": 107,
   "metadata": {},
   "outputs": [
    {
     "data": {
      "text/plain": [
       "0.65"
      ]
     },
     "execution_count": 107,
     "metadata": {},
     "output_type": "execute_result"
    }
   ],
   "source": [
    "count/(len(similar_queries)*5)"
   ]
  },
  {
   "cell_type": "code",
   "execution_count": 108,
   "metadata": {},
   "outputs": [],
   "source": [
    "original_query = \"Books, reading and writing\"\n",
    "df_result = app.query_fusion(input_query=original_query)\n",
    "titles_list = []\n",
    "# append all df_result titles to titles_list\n",
    "for i, row in df_result.head(5).iterrows():\n",
    "    titles_list.append(row['title'])\n",
    "\n",
    "similar_queries = [\"Books and reading\",\n",
    "                    \"Writing and reading\",\n",
    "                    \"Books and writing\",\n",
    "                    \"Reading and writing the best books\",\n",
    "                    ]\n",
    "count = 0\n",
    "for query in similar_queries:\n",
    "    df_result = app.query_fusion(input_query=query)\n",
    "    for i, row in df_result.head(5).iterrows():\n",
    "        if row['title'] in titles_list:\n",
    "            count += 1"
   ]
  },
  {
   "cell_type": "code",
   "execution_count": 109,
   "metadata": {},
   "outputs": [
    {
     "data": {
      "text/plain": [
       "0.75"
      ]
     },
     "execution_count": 109,
     "metadata": {},
     "output_type": "execute_result"
    }
   ],
   "source": [
    "count/(len(similar_queries)*5)"
   ]
  },
  {
   "cell_type": "code",
   "execution_count": 110,
   "metadata": {},
   "outputs": [],
   "source": [
    "original_query = \"Self-improvement and motivation\"\n",
    "df_result = app.query_fusion(input_query=original_query)\n",
    "titles_list = []\n",
    "# append all df_result titles to titles_list\n",
    "for i, row in df_result.head(5).iterrows():\n",
    "    titles_list.append(row['title'])\n",
    "\n",
    "similar_queries = [\"Self-improvement\",\n",
    "                    \"Motivation and self-improvement\",\n",
    "                    \"Self-help and Self-improvement\",\n",
    "                    \"Motivation and self-help\",\n",
    "                    ]\n",
    "count = 0\n",
    "for query in similar_queries:\n",
    "    df_result = app.query_fusion(input_query=query)\n",
    "    for i, row in df_result.head(5).iterrows():\n",
    "        if row['title'] in titles_list:\n",
    "            count += 1"
   ]
  },
  {
   "cell_type": "code",
   "execution_count": 111,
   "metadata": {},
   "outputs": [
    {
     "data": {
      "text/plain": [
       "0.5"
      ]
     },
     "execution_count": 111,
     "metadata": {},
     "output_type": "execute_result"
    }
   ],
   "source": [
    "count/(len(similar_queries)*5)"
   ]
  },
  {
   "cell_type": "code",
   "execution_count": 112,
   "metadata": {},
   "outputs": [],
   "source": [
    "original_query = \"Money, career and how to become a millionaire\"\n",
    "df_result = app.query_fusion(input_query=original_query)\n",
    "titles_list = []\n",
    "# append all df_result titles to titles_list\n",
    "for i, row in df_result.head(5).iterrows():\n",
    "    titles_list.append(row['title'])\n",
    "\n",
    "similar_queries = [\"Money and career and millionaires\",\n",
    "                    \"Become a millionaire\",\n",
    "                    \"Money and career to be a millionaire\",\n",
    "                    \"Career and money and becoming a millionaire\",\n",
    "                    ]\n",
    "count = 0\n",
    "for query in similar_queries:\n",
    "    df_result = app.query_fusion(input_query=query)\n",
    "    for i, row in df_result.head(5).iterrows():\n",
    "        if row['title'] in titles_list:\n",
    "            count += 1"
   ]
  },
  {
   "cell_type": "code",
   "execution_count": 113,
   "metadata": {},
   "outputs": [
    {
     "data": {
      "text/plain": [
       "0.7"
      ]
     },
     "execution_count": 113,
     "metadata": {},
     "output_type": "execute_result"
    }
   ],
   "source": [
    "count/(len(similar_queries)*5)"
   ]
  },
  {
   "cell_type": "markdown",
   "metadata": {},
   "source": [
    "metrics in Ranking Stability\n",
    "semantic: 0.525\n",
    "bm_25: 0.66 \n",
    "fusion: 0.625\n"
   ]
  }
 ],
 "metadata": {
  "kernelspec": {
   "display_name": "env-vespa",
   "language": "python",
   "name": "python3"
  },
  "language_info": {
   "codemirror_mode": {
    "name": "ipython",
    "version": 3
   },
   "file_extension": ".py",
   "mimetype": "text/x-python",
   "name": "python",
   "nbconvert_exporter": "python",
   "pygments_lexer": "ipython3",
   "version": "3.12.2"
  }
 },
 "nbformat": 4,
 "nbformat_minor": 2
}
